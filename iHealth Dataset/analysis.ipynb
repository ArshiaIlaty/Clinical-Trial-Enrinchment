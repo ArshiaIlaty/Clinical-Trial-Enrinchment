{
 "cells": [
  {
   "cell_type": "code",
   "execution_count": 2,
   "id": "183af287",
   "metadata": {},
   "outputs": [
    {
     "data": {
      "text/html": [
       "<div>\n",
       "<style scoped>\n",
       "    .dataframe tbody tr th:only-of-type {\n",
       "        vertical-align: middle;\n",
       "    }\n",
       "\n",
       "    .dataframe tbody tr th {\n",
       "        vertical-align: top;\n",
       "    }\n",
       "\n",
       "    .dataframe thead th {\n",
       "        text-align: right;\n",
       "    }\n",
       "</style>\n",
       "<table border=\"1\" class=\"dataframe\">\n",
       "  <thead>\n",
       "    <tr style=\"text-align: right;\">\n",
       "      <th></th>\n",
       "      <th>HASHED_PATIENT_ID</th>\n",
       "      <th>MEASURMENT_TS</th>\n",
       "      <th>MEDICATION_NAME</th>\n",
       "      <th>MEDICATION_TYPE</th>\n",
       "      <th>MEDICATION_TAKING_STATUS_FROM_VISIT_REPORTING</th>\n",
       "      <th>MEDICATION_DOSAGE</th>\n",
       "      <th>HAD_BP_MEDICINE</th>\n",
       "      <th>SYSTOLIC_BLOOD_PRESSURE</th>\n",
       "      <th>SYSTOLIC_UNIT</th>\n",
       "      <th>DIASTOLIC_BLOOD_PRESSURE</th>\n",
       "      <th>DIASTOLIC_UNIT</th>\n",
       "    </tr>\n",
       "  </thead>\n",
       "  <tbody>\n",
       "    <tr>\n",
       "      <th>0</th>\n",
       "      <td>6b664d1e7b8153d1bae9d2584ab5426459d5163a8b68c9...</td>\n",
       "      <td>2049-05-04 16:19:39.000</td>\n",
       "      <td>Protonix (pantoprazole)</td>\n",
       "      <td>oral</td>\n",
       "      <td>TAKING</td>\n",
       "      <td>40 mg</td>\n",
       "      <td>True</td>\n",
       "      <td>136</td>\n",
       "      <td>mmHg</td>\n",
       "      <td>67</td>\n",
       "      <td>mmHg</td>\n",
       "    </tr>\n",
       "    <tr>\n",
       "      <th>1</th>\n",
       "      <td>6b664d1e7b8153d1bae9d2584ab5426459d5163a8b68c9...</td>\n",
       "      <td>2049-05-04 17:21:27.000</td>\n",
       "      <td>Protonix (pantoprazole)</td>\n",
       "      <td>oral</td>\n",
       "      <td>TAKING</td>\n",
       "      <td>40 mg</td>\n",
       "      <td>True</td>\n",
       "      <td>124</td>\n",
       "      <td>mmHg</td>\n",
       "      <td>71</td>\n",
       "      <td>mmHg</td>\n",
       "    </tr>\n",
       "    <tr>\n",
       "      <th>2</th>\n",
       "      <td>6b664d1e7b8153d1bae9d2584ab5426459d5163a8b68c9...</td>\n",
       "      <td>2049-05-05 20:09:10.000</td>\n",
       "      <td>Protonix (pantoprazole)</td>\n",
       "      <td>oral</td>\n",
       "      <td>TAKING</td>\n",
       "      <td>40 mg</td>\n",
       "      <td>True</td>\n",
       "      <td>129</td>\n",
       "      <td>mmHg</td>\n",
       "      <td>72</td>\n",
       "      <td>mmHg</td>\n",
       "    </tr>\n",
       "    <tr>\n",
       "      <th>3</th>\n",
       "      <td>6b664d1e7b8153d1bae9d2584ab5426459d5163a8b68c9...</td>\n",
       "      <td>2049-05-05 20:11:44.000</td>\n",
       "      <td>Protonix (pantoprazole)</td>\n",
       "      <td>oral</td>\n",
       "      <td>TAKING</td>\n",
       "      <td>40 mg</td>\n",
       "      <td>True</td>\n",
       "      <td>123</td>\n",
       "      <td>mmHg</td>\n",
       "      <td>76</td>\n",
       "      <td>mmHg</td>\n",
       "    </tr>\n",
       "    <tr>\n",
       "      <th>4</th>\n",
       "      <td>6b664d1e7b8153d1bae9d2584ab5426459d5163a8b68c9...</td>\n",
       "      <td>2049-05-06 20:41:01.000</td>\n",
       "      <td>Protonix (pantoprazole)</td>\n",
       "      <td>oral</td>\n",
       "      <td>TAKING</td>\n",
       "      <td>40 mg</td>\n",
       "      <td>True</td>\n",
       "      <td>111</td>\n",
       "      <td>mmHg</td>\n",
       "      <td>67</td>\n",
       "      <td>mmHg</td>\n",
       "    </tr>\n",
       "  </tbody>\n",
       "</table>\n",
       "</div>"
      ],
      "text/plain": [
       "                                   HASHED_PATIENT_ID            MEASURMENT_TS  \\\n",
       "0  6b664d1e7b8153d1bae9d2584ab5426459d5163a8b68c9...  2049-05-04 16:19:39.000   \n",
       "1  6b664d1e7b8153d1bae9d2584ab5426459d5163a8b68c9...  2049-05-04 17:21:27.000   \n",
       "2  6b664d1e7b8153d1bae9d2584ab5426459d5163a8b68c9...  2049-05-05 20:09:10.000   \n",
       "3  6b664d1e7b8153d1bae9d2584ab5426459d5163a8b68c9...  2049-05-05 20:11:44.000   \n",
       "4  6b664d1e7b8153d1bae9d2584ab5426459d5163a8b68c9...  2049-05-06 20:41:01.000   \n",
       "\n",
       "           MEDICATION_NAME MEDICATION_TYPE  \\\n",
       "0  Protonix (pantoprazole)            oral   \n",
       "1  Protonix (pantoprazole)            oral   \n",
       "2  Protonix (pantoprazole)            oral   \n",
       "3  Protonix (pantoprazole)            oral   \n",
       "4  Protonix (pantoprazole)            oral   \n",
       "\n",
       "  MEDICATION_TAKING_STATUS_FROM_VISIT_REPORTING MEDICATION_DOSAGE  \\\n",
       "0                                        TAKING             40 mg   \n",
       "1                                        TAKING             40 mg   \n",
       "2                                        TAKING             40 mg   \n",
       "3                                        TAKING             40 mg   \n",
       "4                                        TAKING             40 mg   \n",
       "\n",
       "   HAD_BP_MEDICINE  SYSTOLIC_BLOOD_PRESSURE SYSTOLIC_UNIT  \\\n",
       "0             True                      136          mmHg   \n",
       "1             True                      124          mmHg   \n",
       "2             True                      129          mmHg   \n",
       "3             True                      123          mmHg   \n",
       "4             True                      111          mmHg   \n",
       "\n",
       "   DIASTOLIC_BLOOD_PRESSURE DIASTOLIC_UNIT  \n",
       "0                        67           mmHg  \n",
       "1                        71           mmHg  \n",
       "2                        72           mmHg  \n",
       "3                        76           mmHg  \n",
       "4                        67           mmHg  "
      ]
     },
     "execution_count": 2,
     "metadata": {},
     "output_type": "execute_result"
    }
   ],
   "source": [
    "import pandas as pd\n",
    "\n",
    "bp_df = pd.read_csv('bp_measurements.csv')\n",
    "\n",
    "bp_df.head()"
   ]
  },
  {
   "cell_type": "code",
   "execution_count": 5,
   "id": "4e873c14",
   "metadata": {},
   "outputs": [
    {
     "data": {
      "text/plain": [
       "HASHED_PATIENT_ID\n",
       "51f7e6b7cc28a11875363202e3bcae4d53fcdf869f3b382b632eca37d884d688    25994\n",
       "a577e6cea6f6397038f7c32e446bfb1e7dc0aca6c5f08cafef4e0ec7a892391a    21290\n",
       "cc679e218c7b208a308d016d3d8920f1c844df212d33b1f4833b4148aa7c3e29    17441\n",
       "bc7ddc35cbe61444029bfbbfc18ca5be830704eae4a4442fe27f29d187fd87cd    11412\n",
       "e6c2052279473200a94fa7ba55d771b51eac9209b66aa635e8ccf35b1707cfe2    11112\n",
       "                                                                    ...  \n",
       "eeafb263d1193e5a63f259bcca84c20f414bc937dbc17209dff9b48ab8791736        1\n",
       "7c7875babd0cb19e9e7cbfa625eee2096d23f248934800c8cfbe9b36669e32b6        1\n",
       "d684f8917ee78ad3d60373279049b3d405ed3b5105c7591537c78c30c0dc26a8        1\n",
       "601a306679e699c94181794fefbe1ce53daf40cdf75ec54cc1e05aefc5e40ee4        1\n",
       "3f906172d5d9e16ce27603963da3215306bae4a9566ff1cacc5eacd5287a7256        1\n",
       "Name: count, Length: 26760, dtype: int64"
      ]
     },
     "execution_count": 5,
     "metadata": {},
     "output_type": "execute_result"
    }
   ],
   "source": [
    "bp_df[\"HASHED_PATIENT_ID\"].nunique()\n",
    "\n",
    "bp_df[\"HASHED_PATIENT_ID\"].value_counts()\n"
   ]
  },
  {
   "cell_type": "code",
   "execution_count": 9,
   "id": "2514405d",
   "metadata": {},
   "outputs": [
    {
     "data": {
      "text/plain": [
       "26760"
      ]
     },
     "execution_count": 9,
     "metadata": {},
     "output_type": "execute_result"
    }
   ],
   "source": [
    "len(bp_df[\"HASHED_PATIENT_ID\"].unique())"
   ]
  },
  {
   "cell_type": "code",
   "execution_count": 10,
   "id": "242e7817",
   "metadata": {},
   "outputs": [
    {
     "data": {
      "text/plain": [
       "19626"
      ]
     },
     "execution_count": 10,
     "metadata": {},
     "output_type": "execute_result"
    }
   ],
   "source": [
    "a1c_df = pd.read_csv('a1c_measurements.csv')\n",
    "\n",
    "a1c_df.head()\n",
    "\n",
    "a1c_df[\"HASHED_PATIENT_ID\"].nunique()"
   ]
  },
  {
   "cell_type": "code",
   "execution_count": 11,
   "id": "5b41f94f",
   "metadata": {},
   "outputs": [
    {
     "data": {
      "text/plain": [
       "31667"
      ]
     },
     "execution_count": 11,
     "metadata": {},
     "output_type": "execute_result"
    }
   ],
   "source": [
    "chat_df = pd.read_csv('chat_count_daily.csv')\n",
    "\n",
    "chat_df.head()\n",
    "\n",
    "chat_df[\"HASHED_PATIENT_ID\"].nunique()\n"
   ]
  },
  {
   "cell_type": "code",
   "execution_count": 12,
   "id": "d19c59ad",
   "metadata": {},
   "outputs": [
    {
     "data": {
      "text/plain": [
       "32980"
      ]
     },
     "execution_count": 12,
     "metadata": {},
     "output_type": "execute_result"
    }
   ],
   "source": [
    "demographics_df = pd.read_csv('demographics.csv')\n",
    "\n",
    "demographics_df.head()\n",
    "\n",
    "demographics_df[\"HASHED_PATIENT_ID\"].nunique()\n"
   ]
  },
  {
   "cell_type": "code",
   "execution_count": 14,
   "id": "4bd1d0a9",
   "metadata": {},
   "outputs": [
    {
     "data": {
      "text/plain": [
       "2649"
      ]
     },
     "execution_count": 14,
     "metadata": {},
     "output_type": "execute_result"
    }
   ],
   "source": [
    "food_df = pd.read_csv('foodlogs.csv')\n",
    "\n",
    "food_df.head()\n",
    "\n",
    "food_df[\"HASHED_PATIENT_ID\"].nunique()"
   ]
  },
  {
   "cell_type": "code",
   "execution_count": 15,
   "id": "0176d9d1",
   "metadata": {},
   "outputs": [
    {
     "data": {
      "text/plain": [
       "28241"
      ]
     },
     "execution_count": 15,
     "metadata": {},
     "output_type": "execute_result"
    }
   ],
   "source": [
    "visits_df = pd.read_csv('visits.csv')\n",
    "\n",
    "visits_df.head()\n",
    "\n",
    "visits_df[\"HASHED_PATIENT_ID\"].nunique()"
   ]
  },
  {
   "cell_type": "code",
   "execution_count": 16,
   "id": "2a13a626",
   "metadata": {},
   "outputs": [
    {
     "data": {
      "text/plain": [
       "15532"
      ]
     },
     "execution_count": 16,
     "metadata": {},
     "output_type": "execute_result"
    }
   ],
   "source": [
    "weight_df = pd.read_csv('weight_measurements.csv')\n",
    "\n",
    "weight_df.head()\n",
    "\n",
    "weight_df[\"HASHED_PATIENT_ID\"].nunique()"
   ]
  }
 ],
 "metadata": {
  "kernelspec": {
   "display_name": "adherence",
   "language": "python",
   "name": "python3"
  },
  "language_info": {
   "codemirror_mode": {
    "name": "ipython",
    "version": 3
   },
   "file_extension": ".py",
   "mimetype": "text/x-python",
   "name": "python",
   "nbconvert_exporter": "python",
   "pygments_lexer": "ipython3",
   "version": "3.10.16"
  }
 },
 "nbformat": 4,
 "nbformat_minor": 5
}
